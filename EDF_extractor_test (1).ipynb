{
 "cells": [
  {
   "cell_type": "markdown",
   "id": "a3e7e56e",
   "metadata": {},
   "source": [
    "# 0. Preparation"
   ]
  },
  {
   "cell_type": "code",
   "execution_count": 3,
   "id": "9de3117f",
   "metadata": {},
   "outputs": [
    {
     "name": "stderr",
     "output_type": "stream",
     "text": [
      "23:06:02 [I] klustakwik KlustaKwik2 version 0.2.6\n"
     ]
    }
   ],
   "source": [
    "import spikeinterface as si\n",
    "import spikeinterface.extractors as se \n",
    "import spikeinterface.preprocessing as spre\n",
    "import spikeinterface.sorters as ss\n",
    "import spikeinterface.postprocessing as spost\n",
    "import spikeinterface.qualitymetrics as sqm\n",
    "import spikeinterface.comparison as sc\n",
    "import spikeinterface.exporters as sexp\n",
    "import spikeinterface.widgets as sw"
   ]
  },
  {
   "cell_type": "code",
   "execution_count": 2,
   "id": "f2ddfa8c",
   "metadata": {},
   "outputs": [],
   "source": [
    "#pip install numpy==1.22"
   ]
  },
  {
   "cell_type": "code",
   "execution_count": 5,
   "id": "8b4f53f4",
   "metadata": {},
   "outputs": [
    {
     "name": "stdout",
     "output_type": "stream",
     "text": [
      "SpikeInterface version: 0.95.1\n"
     ]
    }
   ],
   "source": [
    "print(f\"SpikeInterface version: {si.__version__}\")"
   ]
  },
  {
   "cell_type": "code",
   "execution_count": 6,
   "id": "a1070d10",
   "metadata": {},
   "outputs": [],
   "source": [
    "import matplotlib.pyplot as plt\n",
    "import numpy as np\n",
    "from pathlib import Path\n",
    "\n",
    "import spikeinterface_gui as sigui\n",
    "\n",
    "import warnings\n",
    "warnings.simplefilter(\"ignore\")\n",
    "\n",
    "%matplotlib widget"
   ]
  },
  {
   "cell_type": "code",
   "execution_count": 5,
   "id": "6c01839c",
   "metadata": {},
   "outputs": [],
   "source": [
    "#pip uninstall pyEDFlib\n"
   ]
  },
  {
   "cell_type": "code",
   "execution_count": 7,
   "id": "67999c3d",
   "metadata": {},
   "outputs": [],
   "source": [
    "import pyedflib"
   ]
  },
  {
   "cell_type": "markdown",
   "id": "a5b41c9f",
   "metadata": {},
   "source": [
    "# 1. Load data and design probe"
   ]
  },
  {
   "cell_type": "code",
   "execution_count": 8,
   "id": "4724bc46",
   "metadata": {},
   "outputs": [
    {
     "data": {
      "text/plain": [
       "WindowsPath('C:/Users/betty/Desktop/SpikeInterface/EDF/Week2Day1_220822_155852_section1.edf')"
      ]
     },
     "execution_count": 8,
     "metadata": {},
     "output_type": "execute_result"
    }
   ],
   "source": [
    "# file path\n",
    "base_folder = Path('C:/Users/betty/Desktop/SpikeInterface/EDF')\n",
    "recording_file = base_folder / 'Week2Day1_220822_155852_section1.edf'\n",
    "\n",
    "recording_file"
   ]
  },
  {
   "cell_type": "code",
   "execution_count": 9,
   "id": "01935750",
   "metadata": {},
   "outputs": [],
   "source": [
    "recording=se.EDFRecordingExtractor(recording_file, stream_id=None, stream_name=None, all_annotations=False)\n"
   ]
  },
  {
   "cell_type": "code",
   "execution_count": 11,
   "id": "e1570552",
   "metadata": {},
   "outputs": [
    {
     "name": "stdout",
     "output_type": "stream",
     "text": [
      "write_binary_recording with n_jobs = 1 and chunk_size = None\n"
     ]
    }
   ],
   "source": [
    "recording2 = recording.save(folder='C:/Users/betty/Desktop/SpikeInterface/EDF/SAVEDF0')"
   ]
  },
  {
   "cell_type": "code",
   "execution_count": 12,
   "id": "1c398d7a",
   "metadata": {},
   "outputs": [
    {
     "data": {
      "text/plain": [
       "BinaryFolderRecording: 16 channels - 1 segments - 20.0kHz - 183.000s"
      ]
     },
     "execution_count": 12,
     "metadata": {},
     "output_type": "execute_result"
    }
   ],
   "source": [
    "recording2"
   ]
  },
  {
   "cell_type": "code",
   "execution_count": 13,
   "id": "d443efd6",
   "metadata": {},
   "outputs": [],
   "source": [
    "recording2.annotate(is_filtered=False)"
   ]
  },
  {
   "cell_type": "code",
   "execution_count": 12,
   "id": "8e2d89f0",
   "metadata": {},
   "outputs": [
    {
     "data": {
      "text/plain": [
       "{'binary': spikeinterface.core.binaryrecordingextractor.BinaryRecordingExtractor,\n",
       " 'numpy': spikeinterface.core.numpyextractors.NumpyRecording,\n",
       " 'shybrid': spikeinterface.extractors.shybridextractors.SHYBRIDRecordingExtractor,\n",
       " 'mda': spikeinterface.extractors.mdaextractors.MdaRecordingExtractor,\n",
       " 'cbin_ibl': spikeinterface.extractors.cbin_ibl.CompressedBinaryIblExtractor,\n",
       " 'mcsh5': spikeinterface.extractors.mcsh5extractors.MCSH5RecordingExtractor,\n",
       " 'alphaomega': spikeinterface.extractors.neoextractors.alphaomega.AlphaOmegaRecordingExtractor,\n",
       " 'axona': spikeinterface.extractors.neoextractors.axona.AxonaRecordingExtractor,\n",
       " 'biocam': spikeinterface.extractors.neoextractors.biocam.BiocamRecordingExtractor,\n",
       " 'blackrock': spikeinterface.extractors.neoextractors.blackrock.BlackrockRecordingExtractor,\n",
       " 'ced': spikeinterface.extractors.neoextractors.ced.CedRecordingExtractor,\n",
       " 'edf': spikeinterface.extractors.neoextractors.edf.EDFRecordingExtractor,\n",
       " 'intan': spikeinterface.extractors.neoextractors.intan.IntanRecordingExtractor,\n",
       " 'maxwell': spikeinterface.extractors.neoextractors.maxwell.MaxwellRecordingExtractor,\n",
       " 'mearec': spikeinterface.extractors.neoextractors.mearec.MEArecRecordingExtractor,\n",
       " 'mcsraw': spikeinterface.extractors.neoextractors.mcsraw.MCSRawRecordingExtractor,\n",
       " 'neuralynx': spikeinterface.extractors.neoextractors.neuralynx.NeuralynxRecordingExtractor,\n",
       " 'neuroscope': spikeinterface.extractors.neoextractors.neuroscope.NeuroScopeRecordingExtractor,\n",
       " 'nix': spikeinterface.extractors.neoextractors.nix.NixRecordingExtractor,\n",
       " 'openephys': spikeinterface.extractors.neoextractors.openephys.OpenEphysBinaryRecordingExtractor,\n",
       " 'openephyslegacy': spikeinterface.extractors.neoextractors.openephys.OpenEphysLegacyRecordingExtractor,\n",
       " 'plexon': spikeinterface.extractors.neoextractors.plexon.PlexonRecordingExtractor,\n",
       " 'spike2': spikeinterface.extractors.neoextractors.spike2.Spike2RecordingExtractor,\n",
       " 'spikegadgets': spikeinterface.extractors.neoextractors.spikegadgets.SpikeGadgetsRecordingExtractor,\n",
       " 'spikeglx': spikeinterface.extractors.neoextractors.spikeglx.SpikeGLXRecordingExtractor,\n",
       " 'tdt': spikeinterface.extractors.neoextractors.tdt.TdtRecordingExtractor}"
      ]
     },
     "execution_count": 12,
     "metadata": {},
     "output_type": "execute_result"
    }
   ],
   "source": [
    "se.recording_extractor_full_dict"
   ]
  },
  {
   "cell_type": "code",
   "execution_count": 14,
   "id": "a4c45ed1",
   "metadata": {},
   "outputs": [
    {
     "name": "stdout",
     "output_type": "stream",
     "text": [
      "Channel ids: ['0' '1' '2' '3' '4' '5' '6' '7' '8' '9' '10' '11' '12' '13' '14' '15']\n",
      "Sampling frequency: 20000.0\n",
      "Number of channels: 16\n",
      "Number of segments: 1\n"
     ]
    }
   ],
   "source": [
    "channel_ids = recording2.get_channel_ids()\n",
    "fs = recording2.get_sampling_frequency()\n",
    "num_chan = recording2.get_num_channels()\n",
    "num_segments = recording2.get_num_segments()\n",
    "\n",
    "print(f'Channel ids: {channel_ids}')\n",
    "print(f'Sampling frequency: {fs}')\n",
    "print(f'Number of channels: {num_chan}')\n",
    "print(f\"Number of segments: {num_segments}\")"
   ]
  },
  {
   "cell_type": "code",
   "execution_count": 15,
   "id": "7f4fbe04",
   "metadata": {},
   "outputs": [
    {
     "name": "stdout",
     "output_type": "stream",
     "text": [
      "Traces shape: (40000, 16)\n"
     ]
    }
   ],
   "source": [
    "trace_snippet = recording2.get_traces(start_frame=int(fs*0), end_frame=int(fs*2))\n",
    "print('Traces shape:', trace_snippet.shape)"
   ]
  },
  {
   "cell_type": "code",
   "execution_count": 15,
   "id": "caa17fce",
   "metadata": {},
   "outputs": [
    {
     "name": "stdout",
     "output_type": "stream",
     "text": [
      "Traces dtype after scaling: float32\n"
     ]
    },
    {
     "data": {
      "application/vnd.jupyter.widget-view+json": {
       "model_id": "027077af1a794a5f80a5aa8d1ba3e8a3",
       "version_major": 2,
       "version_minor": 0
      },
      "image/png": "[encoded data removed]",
      "text/html": [
       "\n",
       "            <div style=\"display: inline-block;\">\n",
       "                <div class=\"jupyter-widgets widget-label\" style=\"text-align: center;\">\n",
       "                    Figure\n",
       "                </div>\n",
       "                <img src='data:image/png;base64,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' width=640.0/>\n",
       "            </div>\n",
       "        "
      ],
      "text/plain": [
       "Canvas(toolbar=Toolbar(toolitems=[('Home', 'Reset original view', 'home', 'home'), ('Back', 'Back to previous …"
      ]
     },
     "metadata": {},
     "output_type": "display_data"
    }
   ],
   "source": [
    "traces_unscaled = recording2.get_traces(return_scaled=False,start_frame=int(fs*4), end_frame=int(fs*6))\n",
    "traces_scaled = recording2.get_traces(return_scaled=True,start_frame=int(fs*4), end_frame=int(fs*6))  # return_scaled is True by default\n",
    "\n",
    "print(f\"Traces dtype after scaling: {traces_scaled.dtype}\")\n",
    "fig, ax = plt.subplots()\n",
    "plt.plot(traces_unscaled[:, 0], label=\"unscaled\")\n",
    "plt.plot(traces_scaled[:, 0], label=\"scaled\")\n",
    "plt.legend()\n",
    "\n",
    "plt.show()"
   ]
  },
  {
   "cell_type": "markdown",
   "id": "9794d22e",
   "metadata": {},
   "source": [
    "Load probe information, here we use self-designed probe."
   ]
  },
  {
   "cell_type": "code",
   "execution_count": 15,
   "id": "2cb9719c",
   "metadata": {},
   "outputs": [],
   "source": [
    "import probeinterface as pi\n",
    "from probeinterface import Probe\n",
    "from probeinterface.plotting import plot_probe"
   ]
  },
  {
   "cell_type": "code",
   "execution_count": 16,
   "id": "a02f43d9",
   "metadata": {},
   "outputs": [],
   "source": [
    "n = 16\n",
    "positions = np.zeros((n, 2))\n",
    "for i in range(n):\n",
    "    x = i // 16\n",
    "    y = i % 16\n",
    "    positions[i] = x, y\n",
    "positions *= 100"
   ]
  },
  {
   "cell_type": "code",
   "execution_count": 17,
   "id": "d0488920",
   "metadata": {},
   "outputs": [
    {
     "data": {
      "text/plain": [
       "array([[   0.,    0.],\n",
       "       [   0.,  100.],\n",
       "       [   0.,  200.],\n",
       "       [   0.,  300.],\n",
       "       [   0.,  400.],\n",
       "       [   0.,  500.],\n",
       "       [   0.,  600.],\n",
       "       [   0.,  700.],\n",
       "       [   0.,  800.],\n",
       "       [   0.,  900.],\n",
       "       [   0., 1000.],\n",
       "       [   0., 1100.],\n",
       "       [   0., 1200.],\n",
       "       [   0., 1300.],\n",
       "       [   0., 1400.],\n",
       "       [   0., 1500.]])"
      ]
     },
     "execution_count": 17,
     "metadata": {},
     "output_type": "execute_result"
    }
   ],
   "source": [
    "positions"
   ]
  },
  {
   "cell_type": "code",
   "execution_count": 18,
   "id": "d25425aa",
   "metadata": {},
   "outputs": [
    {
     "data": {
      "text/plain": [
       "array([[   0.,  118.],\n",
       "       [   0.,  218.],\n",
       "       [   0.,  318.],\n",
       "       [   0.,  418.],\n",
       "       [   0.,  518.],\n",
       "       [   0.,  618.],\n",
       "       [   0.,  718.],\n",
       "       [   0.,  818.],\n",
       "       [   0.,  918.],\n",
       "       [   0., 1018.],\n",
       "       [   0., 1118.],\n",
       "       [   0., 1218.],\n",
       "       [   0., 1318.],\n",
       "       [   0., 1418.],\n",
       "       [   0., 1518.],\n",
       "       [   0., 1618.]])"
      ]
     },
     "execution_count": 18,
     "metadata": {},
     "output_type": "execute_result"
    }
   ],
   "source": [
    "positions[:,1]+=118\n",
    "\n",
    "positions"
   ]
  },
  {
   "cell_type": "code",
   "execution_count": 19,
   "id": "db56f2e3",
   "metadata": {},
   "outputs": [
    {
     "data": {
      "text/plain": [
       "array([[  -9.,  118.],\n",
       "       [  -9.,  218.],\n",
       "       [  -9.,  318.],\n",
       "       [  -9.,  418.],\n",
       "       [  -9.,  518.],\n",
       "       [  -9.,  618.],\n",
       "       [  -9.,  718.],\n",
       "       [  -9.,  818.],\n",
       "       [  -9.,  918.],\n",
       "       [  -9., 1018.],\n",
       "       [  -9., 1118.],\n",
       "       [  -9., 1218.],\n",
       "       [  -9., 1318.],\n",
       "       [  -9., 1418.],\n",
       "       [  -9., 1518.],\n",
       "       [  -9., 1618.]])"
      ]
     },
     "execution_count": 19,
     "metadata": {},
     "output_type": "execute_result"
    }
   ],
   "source": [
    "positions[:,0]+=-9\n",
    "positions"
   ]
  },
  {
   "cell_type": "code",
   "execution_count": 20,
   "id": "4e61ec46",
   "metadata": {},
   "outputs": [],
   "source": [
    "probe = Probe(ndim=2, si_units='um')\n",
    "probe.set_contacts(positions=positions, shapes='rect', shape_params={'width': 18,'height':10})"
   ]
  },
  {
   "cell_type": "code",
   "execution_count": 21,
   "id": "87a0291b",
   "metadata": {},
   "outputs": [
    {
     "data": {
      "text/plain": [
       "{'name': 'IC-3-16E', 'manufacturer': 'Qualia Labs'}"
      ]
     },
     "execution_count": 21,
     "metadata": {},
     "output_type": "execute_result"
    }
   ],
   "source": [
    "probe.annotations={'name':'IC-3-16E','manufacturer':'Qualia Labs'}\n",
    "probe.annotations"
   ]
  },
  {
   "cell_type": "code",
   "execution_count": 22,
   "id": "8583f51a",
   "metadata": {},
   "outputs": [
    {
     "name": "stdout",
     "output_type": "stream",
     "text": [
      "Qualia Labs - IC-3-16E - 16ch - 1shanks\n"
     ]
    }
   ],
   "source": [
    "print(probe)"
   ]
  },
  {
   "cell_type": "code",
   "execution_count": 23,
   "id": "7c500fc8",
   "metadata": {},
   "outputs": [],
   "source": [
    "polygon=[(0, 118), (-37, 0), (-74, 118), (-290, 1500), (-290, 3000),(0,3000)]\n",
    "\n",
    "probe.set_planar_contour(polygon)"
   ]
  },
  {
   "cell_type": "code",
   "execution_count": 24,
   "id": "458a7ff5",
   "metadata": {},
   "outputs": [
    {
     "data": {
      "text/html": [
       "<div>\n",
       "<style scoped>\n",
       "    .dataframe tbody tr th:only-of-type {\n",
       "        vertical-align: middle;\n",
       "    }\n",
       "\n",
       "    .dataframe tbody tr th {\n",
       "        vertical-align: top;\n",
       "    }\n",
       "\n",
       "    .dataframe thead th {\n",
       "        text-align: right;\n",
       "    }\n",
       "</style>\n",
       "<table border=\"1\" class=\"dataframe\">\n",
       "  <thead>\n",
       "    <tr style=\"text-align: right;\">\n",
       "      <th></th>\n",
       "      <th>x</th>\n",
       "      <th>y</th>\n",
       "      <th>contact_shapes</th>\n",
       "      <th>width</th>\n",
       "      <th>height</th>\n",
       "      <th>shank_ids</th>\n",
       "      <th>contact_ids</th>\n",
       "    </tr>\n",
       "  </thead>\n",
       "  <tbody>\n",
       "    <tr>\n",
       "      <th>0</th>\n",
       "      <td>-9.0</td>\n",
       "      <td>118.0</td>\n",
       "      <td>rect</td>\n",
       "      <td>18.0</td>\n",
       "      <td>10.0</td>\n",
       "      <td></td>\n",
       "      <td></td>\n",
       "    </tr>\n",
       "    <tr>\n",
       "      <th>1</th>\n",
       "      <td>-9.0</td>\n",
       "      <td>218.0</td>\n",
       "      <td>rect</td>\n",
       "      <td>18.0</td>\n",
       "      <td>10.0</td>\n",
       "      <td></td>\n",
       "      <td></td>\n",
       "    </tr>\n",
       "    <tr>\n",
       "      <th>2</th>\n",
       "      <td>-9.0</td>\n",
       "      <td>318.0</td>\n",
       "      <td>rect</td>\n",
       "      <td>18.0</td>\n",
       "      <td>10.0</td>\n",
       "      <td></td>\n",
       "      <td></td>\n",
       "    </tr>\n",
       "    <tr>\n",
       "      <th>3</th>\n",
       "      <td>-9.0</td>\n",
       "      <td>418.0</td>\n",
       "      <td>rect</td>\n",
       "      <td>18.0</td>\n",
       "      <td>10.0</td>\n",
       "      <td></td>\n",
       "      <td></td>\n",
       "    </tr>\n",
       "    <tr>\n",
       "      <th>4</th>\n",
       "      <td>-9.0</td>\n",
       "      <td>518.0</td>\n",
       "      <td>rect</td>\n",
       "      <td>18.0</td>\n",
       "      <td>10.0</td>\n",
       "      <td></td>\n",
       "      <td></td>\n",
       "    </tr>\n",
       "    <tr>\n",
       "      <th>5</th>\n",
       "      <td>-9.0</td>\n",
       "      <td>618.0</td>\n",
       "      <td>rect</td>\n",
       "      <td>18.0</td>\n",
       "      <td>10.0</td>\n",
       "      <td></td>\n",
       "      <td></td>\n",
       "    </tr>\n",
       "    <tr>\n",
       "      <th>6</th>\n",
       "      <td>-9.0</td>\n",
       "      <td>718.0</td>\n",
       "      <td>rect</td>\n",
       "      <td>18.0</td>\n",
       "      <td>10.0</td>\n",
       "      <td></td>\n",
       "      <td></td>\n",
       "    </tr>\n",
       "    <tr>\n",
       "      <th>7</th>\n",
       "      <td>-9.0</td>\n",
       "      <td>818.0</td>\n",
       "      <td>rect</td>\n",
       "      <td>18.0</td>\n",
       "      <td>10.0</td>\n",
       "      <td></td>\n",
       "      <td></td>\n",
       "    </tr>\n",
       "    <tr>\n",
       "      <th>8</th>\n",
       "      <td>-9.0</td>\n",
       "      <td>918.0</td>\n",
       "      <td>rect</td>\n",
       "      <td>18.0</td>\n",
       "      <td>10.0</td>\n",
       "      <td></td>\n",
       "      <td></td>\n",
       "    </tr>\n",
       "    <tr>\n",
       "      <th>9</th>\n",
       "      <td>-9.0</td>\n",
       "      <td>1018.0</td>\n",
       "      <td>rect</td>\n",
       "      <td>18.0</td>\n",
       "      <td>10.0</td>\n",
       "      <td></td>\n",
       "      <td></td>\n",
       "    </tr>\n",
       "    <tr>\n",
       "      <th>10</th>\n",
       "      <td>-9.0</td>\n",
       "      <td>1118.0</td>\n",
       "      <td>rect</td>\n",
       "      <td>18.0</td>\n",
       "      <td>10.0</td>\n",
       "      <td></td>\n",
       "      <td></td>\n",
       "    </tr>\n",
       "    <tr>\n",
       "      <th>11</th>\n",
       "      <td>-9.0</td>\n",
       "      <td>1218.0</td>\n",
       "      <td>rect</td>\n",
       "      <td>18.0</td>\n",
       "      <td>10.0</td>\n",
       "      <td></td>\n",
       "      <td></td>\n",
       "    </tr>\n",
       "    <tr>\n",
       "      <th>12</th>\n",
       "      <td>-9.0</td>\n",
       "      <td>1318.0</td>\n",
       "      <td>rect</td>\n",
       "      <td>18.0</td>\n",
       "      <td>10.0</td>\n",
       "      <td></td>\n",
       "      <td></td>\n",
       "    </tr>\n",
       "    <tr>\n",
       "      <th>13</th>\n",
       "      <td>-9.0</td>\n",
       "      <td>1418.0</td>\n",
       "      <td>rect</td>\n",
       "      <td>18.0</td>\n",
       "      <td>10.0</td>\n",
       "      <td></td>\n",
       "      <td></td>\n",
       "    </tr>\n",
       "    <tr>\n",
       "      <th>14</th>\n",
       "      <td>-9.0</td>\n",
       "      <td>1518.0</td>\n",
       "      <td>rect</td>\n",
       "      <td>18.0</td>\n",
       "      <td>10.0</td>\n",
       "      <td></td>\n",
       "      <td></td>\n",
       "    </tr>\n",
       "    <tr>\n",
       "      <th>15</th>\n",
       "      <td>-9.0</td>\n",
       "      <td>1618.0</td>\n",
       "      <td>rect</td>\n",
       "      <td>18.0</td>\n",
       "      <td>10.0</td>\n",
       "      <td></td>\n",
       "      <td></td>\n",
       "    </tr>\n",
       "  </tbody>\n",
       "</table>\n",
       "</div>"
      ],
      "text/plain": [
       "      x       y contact_shapes  width  height shank_ids contact_ids\n",
       "0  -9.0   118.0           rect   18.0    10.0                      \n",
       "1  -9.0   218.0           rect   18.0    10.0                      \n",
       "2  -9.0   318.0           rect   18.0    10.0                      \n",
       "3  -9.0   418.0           rect   18.0    10.0                      \n",
       "4  -9.0   518.0           rect   18.0    10.0                      \n",
       "5  -9.0   618.0           rect   18.0    10.0                      \n",
       "6  -9.0   718.0           rect   18.0    10.0                      \n",
       "7  -9.0   818.0           rect   18.0    10.0                      \n",
       "8  -9.0   918.0           rect   18.0    10.0                      \n",
       "9  -9.0  1018.0           rect   18.0    10.0                      \n",
       "10 -9.0  1118.0           rect   18.0    10.0                      \n",
       "11 -9.0  1218.0           rect   18.0    10.0                      \n",
       "12 -9.0  1318.0           rect   18.0    10.0                      \n",
       "13 -9.0  1418.0           rect   18.0    10.0                      \n",
       "14 -9.0  1518.0           rect   18.0    10.0                      \n",
       "15 -9.0  1618.0           rect   18.0    10.0                      "
      ]
     },
     "execution_count": 24,
     "metadata": {},
     "output_type": "execute_result"
    }
   ],
   "source": [
    "df = probe.to_dataframe()\n",
    "df"
   ]
  },
  {
   "cell_type": "code",
   "execution_count": 25,
   "id": "a2f0bb77",
   "metadata": {},
   "outputs": [
    {
     "name": "stdout",
     "output_type": "stream",
     "text": [
      "None\n"
     ]
    }
   ],
   "source": [
    "print(probe.device_channel_indices)# let's keep it as None for now"
   ]
  },
  {
   "cell_type": "code",
   "execution_count": 26,
   "id": "5da67e67",
   "metadata": {},
   "outputs": [
    {
     "name": "stdout",
     "output_type": "stream",
     "text": [
      "[ 0  1  2  3  4  5  6  7  8  9 10 11 12 13 14 15]\n"
     ]
    }
   ],
   "source": [
    "channel_indices = [0,1,2,3,4,5,6,7,8,9,10,11,12,13,14,15]\n",
    "probe.set_device_channel_indices(channel_indices)\n",
    "print(probe.device_channel_indices)"
   ]
  },
  {
   "cell_type": "code",
   "execution_count": 27,
   "id": "b3a6636d",
   "metadata": {},
   "outputs": [
    {
     "data": {
      "text/plain": [
       "(-100.0, 2000.0)"
      ]
     },
     "execution_count": 27,
     "metadata": {},
     "output_type": "execute_result"
    },
    {
     "data": {
      "application/vnd.jupyter.widget-view+json": {
       "model_id": "6fe7d7dc63084b8b85980fc8c2f638e0",
       "version_major": 2,
       "version_minor": 0
      },
      "image/png": "[encoded data removed]",
      "text/html": [
       "\n",
       "            <div style=\"display: inline-block;\">\n",
       "                <div class=\"jupyter-widgets widget-label\" style=\"text-align: center;\">\n",
       "                    Figure\n",
       "                </div>\n",
       "                <img src='data:image/png;base64,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' width=640.0/>\n",
       "            </div>\n",
       "        "
      ],
      "text/plain": [
       "Canvas(toolbar=Toolbar(toolitems=[('Home', 'Reset original view', 'home', 'home'), ('Back', 'Back to previous …"
      ]
     },
     "metadata": {},
     "output_type": "display_data"
    }
   ],
   "source": [
    "fig, ax = plt.subplots()\n",
    "plot_probe(probe, with_channel_index=False,with_device_index=True,ax=ax)\n",
    "ax.set_xlim(-400, 100)\n",
    "ax.set_ylim(-100, 2000)"
   ]
  },
  {
   "cell_type": "code",
   "execution_count": 28,
   "id": "7503f1c5",
   "metadata": {
    "scrolled": false
   },
   "outputs": [
    {
     "data": {
      "text/plain": [
       "BinaryFolderRecording: 16 channels - 1 segments - 20.0kHz - 183.000s"
      ]
     },
     "execution_count": 28,
     "metadata": {},
     "output_type": "execute_result"
    }
   ],
   "source": [
    "recording_prb = recording2.set_probe(probe, group_mode='by_probe',in_place=False)\n",
    "recording_prb"
   ]
  },
  {
   "cell_type": "code",
   "execution_count": 29,
   "id": "e17a87f3",
   "metadata": {},
   "outputs": [
    {
     "data": {
      "text/html": [
       "<div>\n",
       "<style scoped>\n",
       "    .dataframe tbody tr th:only-of-type {\n",
       "        vertical-align: middle;\n",
       "    }\n",
       "\n",
       "    .dataframe tbody tr th {\n",
       "        vertical-align: top;\n",
       "    }\n",
       "\n",
       "    .dataframe thead th {\n",
       "        text-align: right;\n",
       "    }\n",
       "</style>\n",
       "<table border=\"1\" class=\"dataframe\">\n",
       "  <thead>\n",
       "    <tr style=\"text-align: right;\">\n",
       "      <th></th>\n",
       "      <th>contact_ids</th>\n",
       "      <th>shank_ids</th>\n",
       "      <th>device_channel_indices</th>\n",
       "    </tr>\n",
       "  </thead>\n",
       "  <tbody>\n",
       "    <tr>\n",
       "      <th>0</th>\n",
       "      <td></td>\n",
       "      <td></td>\n",
       "      <td>0</td>\n",
       "    </tr>\n",
       "    <tr>\n",
       "      <th>1</th>\n",
       "      <td></td>\n",
       "      <td></td>\n",
       "      <td>1</td>\n",
       "    </tr>\n",
       "    <tr>\n",
       "      <th>2</th>\n",
       "      <td></td>\n",
       "      <td></td>\n",
       "      <td>2</td>\n",
       "    </tr>\n",
       "    <tr>\n",
       "      <th>3</th>\n",
       "      <td></td>\n",
       "      <td></td>\n",
       "      <td>3</td>\n",
       "    </tr>\n",
       "    <tr>\n",
       "      <th>4</th>\n",
       "      <td></td>\n",
       "      <td></td>\n",
       "      <td>4</td>\n",
       "    </tr>\n",
       "    <tr>\n",
       "      <th>5</th>\n",
       "      <td></td>\n",
       "      <td></td>\n",
       "      <td>5</td>\n",
       "    </tr>\n",
       "    <tr>\n",
       "      <th>6</th>\n",
       "      <td></td>\n",
       "      <td></td>\n",
       "      <td>6</td>\n",
       "    </tr>\n",
       "    <tr>\n",
       "      <th>7</th>\n",
       "      <td></td>\n",
       "      <td></td>\n",
       "      <td>7</td>\n",
       "    </tr>\n",
       "    <tr>\n",
       "      <th>8</th>\n",
       "      <td></td>\n",
       "      <td></td>\n",
       "      <td>8</td>\n",
       "    </tr>\n",
       "    <tr>\n",
       "      <th>9</th>\n",
       "      <td></td>\n",
       "      <td></td>\n",
       "      <td>9</td>\n",
       "    </tr>\n",
       "    <tr>\n",
       "      <th>10</th>\n",
       "      <td></td>\n",
       "      <td></td>\n",
       "      <td>10</td>\n",
       "    </tr>\n",
       "    <tr>\n",
       "      <th>11</th>\n",
       "      <td></td>\n",
       "      <td></td>\n",
       "      <td>11</td>\n",
       "    </tr>\n",
       "    <tr>\n",
       "      <th>12</th>\n",
       "      <td></td>\n",
       "      <td></td>\n",
       "      <td>12</td>\n",
       "    </tr>\n",
       "    <tr>\n",
       "      <th>13</th>\n",
       "      <td></td>\n",
       "      <td></td>\n",
       "      <td>13</td>\n",
       "    </tr>\n",
       "    <tr>\n",
       "      <th>14</th>\n",
       "      <td></td>\n",
       "      <td></td>\n",
       "      <td>14</td>\n",
       "    </tr>\n",
       "    <tr>\n",
       "      <th>15</th>\n",
       "      <td></td>\n",
       "      <td></td>\n",
       "      <td>15</td>\n",
       "    </tr>\n",
       "  </tbody>\n",
       "</table>\n",
       "</div>"
      ],
      "text/plain": [
       "   contact_ids shank_ids  device_channel_indices\n",
       "0                                              0\n",
       "1                                              1\n",
       "2                                              2\n",
       "3                                              3\n",
       "4                                              4\n",
       "5                                              5\n",
       "6                                              6\n",
       "7                                              7\n",
       "8                                              8\n",
       "9                                              9\n",
       "10                                            10\n",
       "11                                            11\n",
       "12                                            12\n",
       "13                                            13\n",
       "14                                            14\n",
       "15                                            15"
      ]
     },
     "execution_count": 29,
     "metadata": {},
     "output_type": "execute_result"
    }
   ],
   "source": [
    "probe_rec = recording_prb.get_probe()\n",
    "probe_rec.to_dataframe(complete=True).loc[:, [\"contact_ids\", \"shank_ids\", \"device_channel_indices\"]]"
   ]
  },
  {
   "cell_type": "code",
   "execution_count": 30,
   "id": "30296cf3",
   "metadata": {},
   "outputs": [
    {
     "name": "stdout",
     "output_type": "stream",
     "text": [
      "Channels after loading the probe file: \n",
      "['0' '1' '2' '3' '4' '5' '6' '7' '8' '9' '10' '11' '12' '13' '14' '15']\n",
      "Channel groups after loading the probe file: \n",
      "[0 0 0 0 0 0 0 0 0 0 0 0 0 0 0 0]\n"
     ]
    }
   ],
   "source": [
    "print(f'Channels after loading the probe file: \\n{recording_prb.get_channel_ids()}')\n",
    "print(f'Channel groups after loading the probe file: \\n{recording_prb.get_channel_groups()}')"
   ]
  },
  {
   "cell_type": "code",
   "execution_count": 31,
   "id": "5bfa05f8",
   "metadata": {
    "scrolled": true
   },
   "outputs": [
    {
     "data": {
      "application/vnd.jupyter.widget-view+json": {
       "model_id": "5c857c533f9f4ddcb6269998a5195bc8",
       "version_major": 2,
       "version_minor": 0
      },
      "text/plain": [
       "AppLayout(children=(VBox(children=(FloatSlider(value=0.0, continuous_update=False, description='time:', layout…"
      ]
     },
     "metadata": {},
     "output_type": "display_data"
    }
   ],
   "source": [
    "w_ts = sw.plot_timeseries(recording_prb, order_channel_by_depth=True, backend=\"ipywidgets\",\n",
    "                          clim=(-1000, 1000))"
   ]
  },
  {
   "cell_type": "markdown",
   "id": "5ae534c5",
   "metadata": {},
   "source": [
    "Add property and annotation to the data. (Not required)"
   ]
  },
  {
   "cell_type": "code",
   "execution_count": 32,
   "id": "e61356ca",
   "metadata": {},
   "outputs": [
    {
     "name": "stdout",
     "output_type": "stream",
     "text": [
      "Properties before loading the probe: ['gain_to_uV', 'offset_to_uV', 'channel_name']\n"
     ]
    }
   ],
   "source": [
    "print(\"Properties before loading the probe:\", list(recording2.get_property_keys()))"
   ]
  },
  {
   "cell_type": "code",
   "execution_count": 33,
   "id": "67adc2f3",
   "metadata": {},
   "outputs": [
    {
     "name": "stdout",
     "output_type": "stream",
     "text": [
      "Properties after loading the probe: ['gain_to_uV', 'offset_to_uV', 'channel_name', 'contact_vector', 'location', 'group']\n"
     ]
    }
   ],
   "source": [
    "print(\"Properties after loading the probe:\", list(recording_prb.get_property_keys()))"
   ]
  },
  {
   "cell_type": "code",
   "execution_count": 34,
   "id": "bc5523ed",
   "metadata": {},
   "outputs": [],
   "source": [
    "recording_prb.annotate(description=\"Dataset for SpikeInterface 0.95 EDF tutorial\")"
   ]
  },
  {
   "cell_type": "code",
   "execution_count": 35,
   "id": "ce3e53c3",
   "metadata": {},
   "outputs": [
    {
     "name": "stdout",
     "output_type": "stream",
     "text": [
      "['is_filtered', 'probe_0_planar_contour', 'description']\n"
     ]
    }
   ],
   "source": [
    "print(recording_prb.get_annotation_keys())"
   ]
  },
  {
   "cell_type": "markdown",
   "id": "da5b31e8",
   "metadata": {},
   "source": [
    "# 2. Preprocessing"
   ]
  },
  {
   "cell_type": "markdown",
   "id": "994f869e",
   "metadata": {},
   "source": [
    "We use a new variable to store the preprocessed data."
   ]
  },
  {
   "cell_type": "code",
   "execution_count": 36,
   "id": "a587a737",
   "metadata": {},
   "outputs": [
    {
     "data": {
      "text/plain": [
       "16"
      ]
     },
     "execution_count": 36,
     "metadata": {},
     "output_type": "execute_result"
    }
   ],
   "source": [
    "recording_to_process=recording_prb\n",
    "recording_to_process.get_num_channels()"
   ]
  },
  {
   "cell_type": "code",
   "execution_count": 37,
   "id": "4c409b56",
   "metadata": {},
   "outputs": [],
   "source": [
    "recording_f = spre.bandpass_filter(recording_to_process, freq_min=300, freq_max=6000)"
   ]
  },
  {
   "cell_type": "markdown",
   "id": "b3ec12d5",
   "metadata": {},
   "source": [
    "Apply Common Median Reference (CMR)"
   ]
  },
  {
   "cell_type": "code",
   "execution_count": 38,
   "id": "9bc8373c",
   "metadata": {},
   "outputs": [],
   "source": [
    "recording_cmr = spre.common_reference(recording_f, reference='global', operator='median')"
   ]
  },
  {
   "cell_type": "code",
   "execution_count": 39,
   "id": "92db65f7",
   "metadata": {
    "scrolled": false
   },
   "outputs": [
    {
     "data": {
      "application/vnd.jupyter.widget-view+json": {
       "model_id": "06f1024867c049ed8d73d15a3d125550",
       "version_major": 2,
       "version_minor": 0
      },
      "text/plain": [
       "AppLayout(children=(VBox(children=(FloatSlider(value=0.0, continuous_update=False, description='time:', layout…"
      ]
     },
     "metadata": {},
     "output_type": "display_data"
    }
   ],
   "source": [
    "w = sw.plot_timeseries({\"raw\": recording_to_process, \"filt\": recording_f, \"common\": recording_cmr},\n",
    "                        clim=(-1000, 1000), order_channel_by_depth=True,\n",
    "                        backend=\"ipywidgets\")"
   ]
  },
  {
   "cell_type": "code",
   "execution_count": 40,
   "id": "a4098101",
   "metadata": {},
   "outputs": [
    {
     "data": {
      "text/plain": [
       "20000.0"
      ]
     },
     "execution_count": 40,
     "metadata": {},
     "output_type": "execute_result"
    }
   ],
   "source": [
    "fs = recording_cmr.get_sampling_frequency()\n",
    "fs"
   ]
  },
  {
   "cell_type": "markdown",
   "id": "9599ed16",
   "metadata": {},
   "source": [
    "## Run data using part of it."
   ]
  },
  {
   "cell_type": "code",
   "execution_count": 41,
   "id": "bbb010ae",
   "metadata": {},
   "outputs": [
    {
     "data": {
      "text/plain": [
       "FrameSliceRecording: 16 channels - 1 segments - 20.0kHz - 150.000s"
      ]
     },
     "execution_count": 41,
     "metadata": {},
     "output_type": "execute_result"
    }
   ],
   "source": [
    "recording_sub=recording_cmr.frame_slice(start_frame=0*fs, end_frame=150*fs) # use 150 sec\n",
    "recording_sub"
   ]
  },
  {
   "cell_type": "markdown",
   "id": "84b677f0",
   "metadata": {},
   "source": [
    "# 3. Spike sorting"
   ]
  },
  {
   "cell_type": "code",
   "execution_count": 45,
   "id": "9fcac9e9",
   "metadata": {},
   "outputs": [
    {
     "name": "stdout",
     "output_type": "stream",
     "text": [
      "RUNNING SHELL SCRIPT: C:\\Users\\betty\\AppData\\Local\\Temp\\tmp_shellscript6c22yrpn\\script.bat\n",
      "RUNNING SHELL SCRIPT: C:\\Users\\betty\\AppData\\Local\\Temp\\tmp_shellscriptvjczwj1o\\script.bat\n",
      "RUNNING SHELL SCRIPT: C:\\Users\\betty\\AppData\\Local\\Temp\\tmp_shellscriptvjm4_wir\\script.bat\n",
      "RUNNING SHELL SCRIPT: C:\\Users\\betty\\AppData\\Local\\Temp\\tmp_shellscriptvj1vhxy_\\script.bat\n",
      "RUNNING SHELL SCRIPT: C:\\Users\\betty\\AppData\\Local\\Temp\\tmp_shellscriptnggcxs7n\\script.bat\n",
      "RUNNING SHELL SCRIPT: C:\\Users\\betty\\AppData\\Local\\Temp\\tmp_shellscriptgzlb1qvc\\script.bat\n",
      "RUNNING SHELL SCRIPT: C:\\Users\\betty\\AppData\\Local\\Temp\\tmp_shellscript9nv1d88_\\script.bat\n",
      "RUNNING SHELL SCRIPT: C:\\Users\\betty\\AppData\\Local\\Temp\\tmp_shellscript89j5192p\\script.bat\n"
     ]
    },
    {
     "data": {
      "text/plain": [
       "['herdingspikes',\n",
       " 'klusta',\n",
       " 'spykingcircus',\n",
       " 'spykingcircus2',\n",
       " 'tridesclous',\n",
       " 'tridesclous2']"
      ]
     },
     "execution_count": 45,
     "metadata": {},
     "output_type": "execute_result"
    }
   ],
   "source": [
    "ss.installed_sorters()"
   ]
  },
  {
   "cell_type": "code",
   "execution_count": null,
   "id": "d4235141",
   "metadata": {},
   "outputs": [],
   "source": [
    "ss.get_default_sorter_params('tridesclous')"
   ]
  },
  {
   "cell_type": "code",
   "execution_count": null,
   "id": "5e627106",
   "metadata": {},
   "outputs": [],
   "source": [
    "ss.get_sorter_params_description('tridesclous')"
   ]
  },
  {
   "cell_type": "code",
   "execution_count": null,
   "id": "75f48a3a",
   "metadata": {},
   "outputs": [],
   "source": [
    "#ss.run_sorter?"
   ]
  },
  {
   "cell_type": "code",
   "execution_count": null,
   "id": "bc52bf09",
   "metadata": {},
   "outputs": [],
   "source": [
    "#ss.run_tridesclous?"
   ]
  },
  {
   "cell_type": "code",
   "execution_count": null,
   "id": "46fabec0",
   "metadata": {
    "scrolled": true
   },
   "outputs": [],
   "source": [
    "# run spike sorting on 150s recording (recording_sub)\n",
    "sorting_TDC = ss.run_sorter('tridesclous', recording_sub, \n",
    "                            output_folder=base_folder / 'results_TDC1', \n",
    "                            verbose=True)"
   ]
  },
  {
   "cell_type": "code",
   "execution_count": null,
   "id": "eb28f76e",
   "metadata": {},
   "outputs": [],
   "source": [
    "sorting_TDC"
   ]
  },
  {
   "cell_type": "code",
   "execution_count": null,
   "id": "b4746dae",
   "metadata": {},
   "outputs": [],
   "source": [
    "print('Found', len(sorting_TDC.get_unit_ids()), 'units')"
   ]
  },
  {
   "cell_type": "markdown",
   "id": "beea6659",
   "metadata": {},
   "source": [
    "Use another sorter"
   ]
  },
  {
   "cell_type": "code",
   "execution_count": null,
   "id": "299df6f7",
   "metadata": {
    "scrolled": true
   },
   "outputs": [],
   "source": [
    "#pip list"
   ]
  },
  {
   "cell_type": "code",
   "execution_count": null,
   "id": "8fab88ef",
   "metadata": {
    "scrolled": true
   },
   "outputs": [],
   "source": [
    "ss.get_default_sorter_params('spykingcircus')"
   ]
  },
  {
   "cell_type": "code",
   "execution_count": null,
   "id": "7431e33e",
   "metadata": {},
   "outputs": [],
   "source": [
    "ss.get_sorter_params_description('spykingcircus')"
   ]
  },
  {
   "cell_type": "code",
   "execution_count": null,
   "id": "f209d27a",
   "metadata": {},
   "outputs": [],
   "source": [
    "#pip install Cython h5py tqdm"
   ]
  },
  {
   "cell_type": "code",
   "execution_count": null,
   "id": "3cbd3375",
   "metadata": {},
   "outputs": [],
   "source": [
    "#pip install mountainsort4"
   ]
  },
  {
   "cell_type": "code",
   "execution_count": null,
   "id": "4dfcd75d",
   "metadata": {},
   "outputs": [],
   "source": [
    "#pip install pyproject-toml"
   ]
  },
  {
   "cell_type": "code",
   "execution_count": null,
   "id": "c744ef97",
   "metadata": {},
   "outputs": [],
   "source": [
    "#pip install herdingspikes "
   ]
  },
  {
   "cell_type": "code",
   "execution_count": null,
   "id": "0bcc3498",
   "metadata": {},
   "outputs": [],
   "source": [
    "#pip install click klusta klustakwik2"
   ]
  },
  {
   "cell_type": "markdown",
   "id": "9492a98c",
   "metadata": {
    "scrolled": false
   },
   "source": [
    "sorting_TDC2 = ss.run_sorter('spykingcircus', recording_sub, \n",
    "                             output_folder=base_folder/'results_TDC22', \n",
    "                             verbose=True)"
   ]
  },
  {
   "cell_type": "markdown",
   "id": "f7095d8e",
   "metadata": {},
   "source": [
    "sorting_TDC3 = ss.run_sorter('klusta', recording_sub, \n",
    "                             output_folder=base_folder/'results_TDC23', \n",
    "                             verbose=True)"
   ]
  },
  {
   "cell_type": "markdown",
   "id": "26a2b2f1",
   "metadata": {},
   "source": [
    "sorting_TDC4 = ss.run_sorter('herdingspikes', recording_sub, \n",
    "                             output_folder=base_folder/'results_TDC24', \n",
    "                             verbose=True)"
   ]
  },
  {
   "cell_type": "code",
   "execution_count": null,
   "id": "a330434f",
   "metadata": {},
   "outputs": [],
   "source": [
    "# every time I run the herdingspikes, the kernel failed."
   ]
  },
  {
   "cell_type": "markdown",
   "id": "2acdc193",
   "metadata": {},
   "source": [
    "Use spike sorting method based on Matlab. Clone the sorter repo and point it to SpikeInterface:"
   ]
  },
  {
   "cell_type": "code",
   "execution_count": 46,
   "id": "5ad90c66",
   "metadata": {},
   "outputs": [
    {
     "name": "stderr",
     "output_type": "stream",
     "text": [
      "fatal: destination path 'ironclust' already exists and is not an empty directory.\n"
     ]
    }
   ],
   "source": [
    "!git clone https://github.com/flatironinstitute/ironclust"
   ]
  },
  {
   "cell_type": "code",
   "execution_count": 47,
   "id": "f9b18281",
   "metadata": {},
   "outputs": [
    {
     "name": "stdout",
     "output_type": "stream",
     "text": [
      "Setting IRONCLUST_PATH environment variable for subprocess calls to: C:\\Users\\betty\\Desktop\\SpikeInterface\\EDF\\ironclust\n"
     ]
    }
   ],
   "source": [
    "ss.IronClustSorter.set_ironclust_path('./ironclust')"
   ]
  },
  {
   "cell_type": "code",
   "execution_count": 48,
   "id": "d6ae2bca",
   "metadata": {},
   "outputs": [
    {
     "data": {
      "text/plain": [
       "'C:\\\\Users\\\\betty\\\\Desktop\\\\SpikeInterface\\\\EDF\\\\ironclust'"
      ]
     },
     "execution_count": 48,
     "metadata": {},
     "output_type": "execute_result"
    }
   ],
   "source": [
    "ss.IronClustSorter.ironclust_path"
   ]
  },
  {
   "cell_type": "code",
   "execution_count": 49,
   "id": "866c8068",
   "metadata": {},
   "outputs": [
    {
     "name": "stdout",
     "output_type": "stream",
     "text": [
      "RUNNING SHELL SCRIPT: C:\\Users\\betty\\AppData\\Local\\Temp\\tmp_shellscriptmsogcumz\\script.bat\n",
      "RUNNING SHELL SCRIPT: C:\\Users\\betty\\AppData\\Local\\Temp\\tmp_shellscriptj41jmdm9\\script.bat\n",
      "RUNNING SHELL SCRIPT: C:\\Users\\betty\\AppData\\Local\\Temp\\tmp_shellscript8v686hfa\\script.bat\n",
      "RUNNING SHELL SCRIPT: C:\\Users\\betty\\AppData\\Local\\Temp\\tmp_shellscriptgacauvwe\\script.bat\n",
      "RUNNING SHELL SCRIPT: C:\\Users\\betty\\AppData\\Local\\Temp\\tmp_shellscriptw5h1buoe\\script.bat\n",
      "RUNNING SHELL SCRIPT: C:\\Users\\betty\\AppData\\Local\\Temp\\tmp_shellscript22gx_khb\\script.bat\n",
      "RUNNING SHELL SCRIPT: C:\\Users\\betty\\AppData\\Local\\Temp\\tmp_shellscript2bdev_rg\\script.bat\n",
      "RUNNING SHELL SCRIPT: C:\\Users\\betty\\AppData\\Local\\Temp\\tmp_shellscriptw6gunm0z\\script.bat\n"
     ]
    },
    {
     "data": {
      "text/plain": [
       "['herdingspikes',\n",
       " 'ironclust',\n",
       " 'klusta',\n",
       " 'spykingcircus',\n",
       " 'spykingcircus2',\n",
       " 'tridesclous',\n",
       " 'tridesclous2']"
      ]
     },
     "execution_count": 49,
     "metadata": {},
     "output_type": "execute_result"
    }
   ],
   "source": [
    "ss.installed_sorters()"
   ]
  },
  {
   "cell_type": "code",
   "execution_count": 1,
   "id": "4f910f7c",
   "metadata": {},
   "outputs": [],
   "source": [
    "import docker"
   ]
  },
  {
   "cell_type": "code",
   "execution_count": 42,
   "id": "fb8e67f8",
   "metadata": {},
   "outputs": [
    {
     "name": "stdout",
     "output_type": "stream",
     "text": [
      "ironclust supports GPU, but no GPU is available.\n",
      "Running the sorter without GPU\n",
      "Docker: pulling image spikeinterface/ironclust-compiled-base\n",
      "Starting container\n",
      "Installing spikeinterface==0.95.1 in spikeinterface/ironclust-compiled-base\n",
      "Running ironclust sorter inside spikeinterface/ironclust-compiled-base\n",
      "Stopping container\n"
     ]
    },
    {
     "ename": "SpikeSortingError",
     "evalue": "Spike sorting in docker failed with the following error:\nb'\\rwrite_binary_recording:   0%|          | 0/150 [00:00<?, ?it/s]\\rwrite_binary_recording:   1%|          | 1/150 [00:00<00:17,  8.43it/s]\\rwrite_binary_recording:   2%|2         | 3/150 [00:00<00:16,  8.93it/s]\\rwrite_binary_recording:   3%|3         | 5/150 [00:00<00:15,  9.35it/s]\\rwrite_binary_recording:   5%|4         | 7/150 [00:00<00:14,  9.68it/s]\\rwrite_binary_recording:   6%|6         | 9/150 [00:00<00:14, 10.01it/s]\\rwrite_binary_recording:   7%|7         | 11/150 [00:01<00:13, 10.10it/s]\\rwrite_binary_recording:   8%|8         | 12/150 [00:01<00:16,  8.34it/s]\\rwrite_binary_recording:   9%|9         | 14/150 [00:01<00:15,  8.97it/s]\\rwrite_binary_recording:  10%|#         | 15/150 [00:01<00:14,  9.26it/s]\\rwrite_binary_recording:  11%|#         | 16/150 [00:01<00:14,  9.31it/s]\\rwrite_binary_recording:  11%|#1        | 17/150 [00:01<00:14,  9.04it/s]\\rwrite_binary_recording:  13%|#2        | 19/150 [00:01<00:13,  9.89it/s]\\rwrite_binary_recording:  14%|#4        | 21/150 [00:02<00:12, 10.25it/s]\\rwrite_binary_recording:  15%|#5        | 23/150 [00:02<00:11, 11.05it/s]\\rwrite_binary_recording:  17%|#6        | 25/150 [00:02<00:10, 11.78it/s]\\rwrite_binary_recording:  18%|#8        | 27/150 [00:02<00:09, 12.53it/s]\\rwrite_binary_recording:  19%|#9        | 29/150 [00:02<00:09, 12.89it/s]\\rwrite_binary_recording:  21%|##        | 31/150 [00:02<00:09, 12.76it/s]\\rwrite_binary_recording:  22%|##2       | 33/150 [00:02<00:09, 13.00it/s]\\rwrite_binary_recording:  23%|##3       | 35/150 [00:03<00:08, 13.43it/s]\\rwrite_binary_recording:  25%|##4       | 37/150 [00:03<00:08, 13.42it/s]\\rwrite_binary_recording:  26%|##6       | 39/150 [00:03<00:08, 13.28it/s]\\rwrite_binary_recording:  27%|##7       | 41/150 [00:03<00:09, 11.42it/s]\\rwrite_binary_recording:  29%|##8       | 43/150 [00:03<00:08, 11.93it/s]\\rwrite_binary_recording:  30%|###       | 45/150 [00:03<00:08, 11.70it/s]\\rwrite_binary_recording:  31%|###1      | 47/150 [00:04<00:08, 11.77it/s]\\rwrite_binary_recording:  33%|###2      | 49/150 [00:04<00:08, 12.05it/s]\\rwrite_binary_recording:  34%|###4      | 51/150 [00:04<00:08, 12.05it/s]\\rwrite_binary_recording:  35%|###5      | 53/150 [00:04<00:07, 12.26it/s]\\rwrite_binary_recording:  37%|###6      | 55/150 [00:04<00:07, 12.48it/s]\\rwrite_binary_recording:  38%|###8      | 57/150 [00:04<00:07, 12.44it/s]\\rwrite_binary_recording:  39%|###9      | 59/150 [00:05<00:07, 12.57it/s]\\rwrite_binary_recording:  41%|####      | 61/150 [00:05<00:07, 12.37it/s]\\rwrite_binary_recording:  42%|####2     | 63/150 [00:05<00:07, 11.90it/s]\\rwrite_binary_recording:  43%|####3     | 65/150 [00:05<00:07, 12.00it/s]\\rwrite_binary_recording:  45%|####4     | 67/150 [00:05<00:07, 11.69it/s]\\rwrite_binary_recording:  46%|####6     | 69/150 [00:05<00:07, 11.49it/s]\\rwrite_binary_recording:  47%|####7     | 71/150 [00:06<00:07, 11.23it/s]\\rwrite_binary_recording:  49%|####8     | 73/150 [00:06<00:06, 11.10it/s]\\rwrite_binary_recording:  50%|#####     | 75/150 [00:06<00:06, 11.01it/s]\\rwrite_binary_recording:  51%|#####1    | 77/150 [00:06<00:06, 10.89it/s]\\rwrite_binary_recording:  53%|#####2    | 79/150 [00:06<00:06, 10.65it/s]\\rwrite_binary_recording:  54%|#####4    | 81/150 [00:07<00:06, 10.69it/s]\\rwrite_binary_recording:  55%|#####5    | 83/150 [00:07<00:06, 10.33it/s]\\rwrite_binary_recording:  57%|#####6    | 85/150 [00:07<00:06, 10.38it/s]\\rwrite_binary_recording:  58%|#####8    | 87/150 [00:07<00:05, 10.52it/s]\\rwrite_binary_recording:  59%|#####9    | 89/150 [00:07<00:05, 10.49it/s]\\rwrite_binary_recording:  61%|######    | 91/150 [00:08<00:05, 11.26it/s]\\rwrite_binary_recording:  62%|######2   | 93/150 [00:08<00:04, 11.88it/s]\\rwrite_binary_recording:  63%|######3   | 95/150 [00:08<00:04, 12.58it/s]\\rwrite_binary_recording:  65%|######4   | 97/150 [00:08<00:04, 12.88it/s]\\rwrite_binary_recording:  66%|######6   | 99/150 [00:08<00:03, 13.20it/s]\\rwrite_binary_recording:  67%|######7   | 101/150 [00:08<00:03, 13.39it/s]\\rwrite_binary_recording:  69%|######8   | 103/150 [00:08<00:03, 13.64it/s]\\rwrite_binary_recording:  70%|#######   | 105/150 [00:09<00:03, 13.69it/s]\\rwrite_binary_recording:  71%|#######1  | 107/150 [00:09<00:03, 13.76it/s]\\rwrite_binary_recording:  73%|#######2  | 109/150 [00:09<00:02, 13.97it/s]\\rwrite_binary_recording:  74%|#######4  | 111/150 [00:09<00:02, 14.15it/s]\\rwrite_binary_recording:  75%|#######5  | 113/150 [00:09<00:02, 13.93it/s]\\rwrite_binary_recording:  77%|#######6  | 115/150 [00:09<00:02, 14.04it/s]\\rwrite_binary_recording:  78%|#######8  | 117/150 [00:09<00:02, 14.00it/s]\\rwrite_binary_recording:  79%|#######9  | 119/150 [00:10<00:02, 13.90it/s]\\rwrite_binary_recording:  81%|########  | 121/150 [00:10<00:02, 14.02it/s]\\rwrite_binary_recording:  82%|########2 | 123/150 [00:10<00:03,  6.84it/s]\\rwrite_binary_recording:  83%|########3 | 125/150 [00:12<00:09,  2.75it/s]\\rwrite_binary_recording:  85%|########4 | 127/150 [00:12<00:06,  3.54it/s]\\rwrite_binary_recording:  86%|########6 | 129/150 [00:12<00:04,  4.54it/s]\\rwrite_binary_recording:  87%|########7 | 131/150 [00:13<00:03,  5.64it/s]\\rwrite_binary_recording:  89%|########8 | 133/150 [00:13<00:02,  6.75it/s]\\rwrite_binary_recording:  90%|######### | 135/150 [00:13<00:01,  7.79it/s]\\rwrite_binary_recording:  91%|#########1| 137/150 [00:13<00:01,  8.94it/s]\\rwrite_binary_recording:  93%|#########2| 139/150 [00:13<00:01, 10.05it/s]\\rwrite_binary_recording:  94%|#########3| 141/150 [00:13<00:00, 10.75it/s]\\rwrite_binary_recording:  95%|#########5| 143/150 [00:13<00:00, 11.47it/s]\\rwrite_binary_recording:  97%|#########6| 145/150 [00:14<00:00, 12.08it/s]\\rwrite_binary_recording:  98%|#########8| 147/150 [00:14<00:00, 12.56it/s]\\rwrite_binary_recording:  99%|#########9| 149/150 [00:14<00:00, 12.90it/s]\\rwrite_binary_recording: 100%|##########| 150/150 [00:14<00:00, 10.38it/s]\\nRUNNING SHELL SCRIPT: /tmp/tmp_shellscript7_aapou3/script.sh\\nWarning! The recording is already filtered, but ironclust filter is enabled\\nchannels = 16, timepoints = 3000000, duration = 2.5 minutes\\nCreating argfile.txt...\\nRUNNING SHELL SCRIPT: /tmp/tmp_shellscriptpbicgg53/script.sh\\nRunning ironclust in /Users/betty/Desktop/SpikeInterface/EDF/results_IC/tmp...\\nRUNNING SHELL SCRIPT: /tmp/tmp_shellscriptepif2u_u/script.sh\\nRUNNING SHELL SCRIPT: /Users/betty/Desktop/SpikeInterface/EDF/results_IC/run_ironclust.sh\\n===================================================\\n\\nIronClust Version: 2\\n\\n===================================================\\n\\nRemoved 0 lock(s).\\n\\nRunning irc2.m (5.9.8)\\n\\nCreated /Users/betty/Desktop/SpikeInterface/EDF/results_IC/tmp/raw_geom.prm\\n\\nRead /Users/betty/Desktop/SpikeInterface/EDF/results_IC/ironclust_dataset/raw.mda (1/1), took 11.8s (8.2 MB/s, 96.0 MB)\\n\\n\\tget_prinvec_: took 0.1s\\n\\nArrays have incompatible sizes for this operation.\\n\\nError using +\\n\\nArrays have incompatible sizes for this operation.\\n\\n\\n\\nError in irc2>find_site2_spk_ (line 9450)\\n\\n\\n\\nError in irc2>get_spikes_ (line 4718)\\n\\n\\n\\nError in irc2>detect_paged_ (line 4664)\\n\\n\\n\\nError in irc2>detect_ (line 4358)\\n\\n\\n\\nError in irc2>detect_cache_ (line 340)\\n\\n\\n\\nError in irc2 (line 236)\\n\\n\\n\\nError in p_ironclust (line 22)\\n\\n\\n\\nMATLAB:sizeDimensionsMustMatch\\n\\nError running ironclust\\nTraceback (most recent call last):\\n  File \"/home/miniconda3/lib/python3.8/site-packages/spikeinterface/sorters/basesorter.py\", line 225, in run_from_folder\\n    SorterClass._run_from_folder(output_folder, sorter_params, verbose)\\n  File \"/home/miniconda3/lib/python3.8/site-packages/spikeinterface/sorters/ironclust/ironclust.py\", line 249, in _run_from_folder\\n    raise Exception(\\'ironclust returned a non-zero exit code\\')\\nException: ironclust returned a non-zero exit code\\n\\nTraceback (most recent call last):\\n  File \"/Users/betty/Desktop/SpikeInterface/EDF/in_container_sorter_script.py\", line 17, in <module>\\n    sorting = run_sorter_local(\\n  File \"/home/miniconda3/lib/python3.8/site-packages/spikeinterface/sorters/runsorter.py\", line 162, in run_sorter_local\\n    SorterClass.run_from_folder(output_folder, raise_error, verbose)\\n  File \"/home/miniconda3/lib/python3.8/site-packages/spikeinterface/sorters/basesorter.py\", line 261, in run_from_folder\\n    raise SpikeSortingError(\\nspikeinterface.sorters.utils.misc.SpikeSortingError: Spike sorting failed. You can inspect the runtime trace in /Users/betty/Desktop/SpikeInterface/EDF/results_IC/spikeinterface_log.json\\n'",
     "output_type": "error",
     "traceback": [
      "\u001b[1;31m---------------------------------------------------------------------------\u001b[0m",
      "\u001b[1;31mSpikeSortingError\u001b[0m                         Traceback (most recent call last)",
      "Cell \u001b[1;32mIn [42], line 2\u001b[0m\n\u001b[0;32m      1\u001b[0m \u001b[38;5;66;03m# run spike sorting by group\u001b[39;00m\n\u001b[1;32m----> 2\u001b[0m sorting_IC \u001b[38;5;241m=\u001b[39m ss\u001b[38;5;241m.\u001b[39mrun_sorter(\u001b[38;5;124m'\u001b[39m\u001b[38;5;124mironclust\u001b[39m\u001b[38;5;124m'\u001b[39m, recording_sub, \n\u001b[0;32m      3\u001b[0m                            output_folder\u001b[38;5;241m=\u001b[39mbase_folder\u001b[38;5;241m/\u001b[39m\u001b[38;5;124m'\u001b[39m\u001b[38;5;124mresults_IC\u001b[39m\u001b[38;5;124m'\u001b[39m,\n\u001b[0;32m      4\u001b[0m                            docker_image\u001b[38;5;241m=\u001b[39m\u001b[38;5;28;01mTrue\u001b[39;00m, verbose\u001b[38;5;241m=\u001b[39m\u001b[38;5;28;01mTrue\u001b[39;00m)\n",
      "File \u001b[1;32m~\\.conda\\envs\\si_env\\lib\\site-packages\\spikeinterface\\sorters\\runsorter.py:136\u001b[0m, in \u001b[0;36mrun_sorter\u001b[1;34m(sorter_name, recording, output_folder, remove_existing_folder, delete_output_folder, verbose, raise_error, docker_image, singularity_image, with_output, **sorter_params)\u001b[0m\n\u001b[0;32m    134\u001b[0m         \u001b[38;5;28;01melse\u001b[39;00m:\n\u001b[0;32m    135\u001b[0m             container_image \u001b[38;5;241m=\u001b[39m singularity_image\n\u001b[1;32m--> 136\u001b[0m     \u001b[38;5;28;01mreturn\u001b[39;00m run_sorter_container(\n\u001b[0;32m    137\u001b[0m         container_image\u001b[38;5;241m=\u001b[39mcontainer_image,\n\u001b[0;32m    138\u001b[0m         mode\u001b[38;5;241m=\u001b[39mmode,\n\u001b[0;32m    139\u001b[0m         \u001b[38;5;241m*\u001b[39m\u001b[38;5;241m*\u001b[39mcommon_kwargs,\n\u001b[0;32m    140\u001b[0m     )\n\u001b[0;32m    142\u001b[0m \u001b[38;5;28;01mreturn\u001b[39;00m run_sorter_local(\u001b[38;5;241m*\u001b[39m\u001b[38;5;241m*\u001b[39mcommon_kwargs)\n",
      "File \u001b[1;32m~\\.conda\\envs\\si_env\\lib\\site-packages\\spikeinterface\\sorters\\runsorter.py:548\u001b[0m, in \u001b[0;36mrun_sorter_container\u001b[1;34m(sorter_name, recording, mode, container_image, output_folder, remove_existing_folder, delete_output_folder, verbose, raise_error, with_output, extra_requirements, **sorter_params)\u001b[0m\n\u001b[0;32m    546\u001b[0m \u001b[38;5;28;01mif\u001b[39;00m run_error:\n\u001b[0;32m    547\u001b[0m     \u001b[38;5;28;01mif\u001b[39;00m raise_error:\n\u001b[1;32m--> 548\u001b[0m         \u001b[38;5;28;01mraise\u001b[39;00m SpikeSortingError(\n\u001b[0;32m    549\u001b[0m             \u001b[38;5;124mf\u001b[39m\u001b[38;5;124m\"\u001b[39m\u001b[38;5;124mSpike sorting in \u001b[39m\u001b[38;5;132;01m{\u001b[39;00mmode\u001b[38;5;132;01m}\u001b[39;00m\u001b[38;5;124m failed with the following error:\u001b[39m\u001b[38;5;130;01m\\n\u001b[39;00m\u001b[38;5;132;01m{\u001b[39;00mrun_sorter_output\u001b[38;5;132;01m}\u001b[39;00m\u001b[38;5;124m\"\u001b[39m)\n\u001b[0;32m    550\u001b[0m \u001b[38;5;28;01melse\u001b[39;00m:\n\u001b[0;32m    551\u001b[0m     \u001b[38;5;28;01mif\u001b[39;00m with_output:\n",
      "\u001b[1;31mSpikeSortingError\u001b[0m: Spike sorting in docker failed with the following error:\nb'\\rwrite_binary_recording:   0%|          | 0/150 [00:00<?, ?it/s]\\rwrite_binary_recording:   1%|          | 1/150 [00:00<00:17,  8.43it/s]\\rwrite_binary_recording:   2%|2         | 3/150 [00:00<00:16,  8.93it/s]\\rwrite_binary_recording:   3%|3         | 5/150 [00:00<00:15,  9.35it/s]\\rwrite_binary_recording:   5%|4         | 7/150 [00:00<00:14,  9.68it/s]\\rwrite_binary_recording:   6%|6         | 9/150 [00:00<00:14, 10.01it/s]\\rwrite_binary_recording:   7%|7         | 11/150 [00:01<00:13, 10.10it/s]\\rwrite_binary_recording:   8%|8         | 12/150 [00:01<00:16,  8.34it/s]\\rwrite_binary_recording:   9%|9         | 14/150 [00:01<00:15,  8.97it/s]\\rwrite_binary_recording:  10%|#         | 15/150 [00:01<00:14,  9.26it/s]\\rwrite_binary_recording:  11%|#         | 16/150 [00:01<00:14,  9.31it/s]\\rwrite_binary_recording:  11%|#1        | 17/150 [00:01<00:14,  9.04it/s]\\rwrite_binary_recording:  13%|#2        | 19/150 [00:01<00:13,  9.89it/s]\\rwrite_binary_recording:  14%|#4        | 21/150 [00:02<00:12, 10.25it/s]\\rwrite_binary_recording:  15%|#5        | 23/150 [00:02<00:11, 11.05it/s]\\rwrite_binary_recording:  17%|#6        | 25/150 [00:02<00:10, 11.78it/s]\\rwrite_binary_recording:  18%|#8        | 27/150 [00:02<00:09, 12.53it/s]\\rwrite_binary_recording:  19%|#9        | 29/150 [00:02<00:09, 12.89it/s]\\rwrite_binary_recording:  21%|##        | 31/150 [00:02<00:09, 12.76it/s]\\rwrite_binary_recording:  22%|##2       | 33/150 [00:02<00:09, 13.00it/s]\\rwrite_binary_recording:  23%|##3       | 35/150 [00:03<00:08, 13.43it/s]\\rwrite_binary_recording:  25%|##4       | 37/150 [00:03<00:08, 13.42it/s]\\rwrite_binary_recording:  26%|##6       | 39/150 [00:03<00:08, 13.28it/s]\\rwrite_binary_recording:  27%|##7       | 41/150 [00:03<00:09, 11.42it/s]\\rwrite_binary_recording:  29%|##8       | 43/150 [00:03<00:08, 11.93it/s]\\rwrite_binary_recording:  30%|###       | 45/150 [00:03<00:08, 11.70it/s]\\rwrite_binary_recording:  31%|###1      | 47/150 [00:04<00:08, 11.77it/s]\\rwrite_binary_recording:  33%|###2      | 49/150 [00:04<00:08, 12.05it/s]\\rwrite_binary_recording:  34%|###4      | 51/150 [00:04<00:08, 12.05it/s]\\rwrite_binary_recording:  35%|###5      | 53/150 [00:04<00:07, 12.26it/s]\\rwrite_binary_recording:  37%|###6      | 55/150 [00:04<00:07, 12.48it/s]\\rwrite_binary_recording:  38%|###8      | 57/150 [00:04<00:07, 12.44it/s]\\rwrite_binary_recording:  39%|###9      | 59/150 [00:05<00:07, 12.57it/s]\\rwrite_binary_recording:  41%|####      | 61/150 [00:05<00:07, 12.37it/s]\\rwrite_binary_recording:  42%|####2     | 63/150 [00:05<00:07, 11.90it/s]\\rwrite_binary_recording:  43%|####3     | 65/150 [00:05<00:07, 12.00it/s]\\rwrite_binary_recording:  45%|####4     | 67/150 [00:05<00:07, 11.69it/s]\\rwrite_binary_recording:  46%|####6     | 69/150 [00:05<00:07, 11.49it/s]\\rwrite_binary_recording:  47%|####7     | 71/150 [00:06<00:07, 11.23it/s]\\rwrite_binary_recording:  49%|####8     | 73/150 [00:06<00:06, 11.10it/s]\\rwrite_binary_recording:  50%|#####     | 75/150 [00:06<00:06, 11.01it/s]\\rwrite_binary_recording:  51%|#####1    | 77/150 [00:06<00:06, 10.89it/s]\\rwrite_binary_recording:  53%|#####2    | 79/150 [00:06<00:06, 10.65it/s]\\rwrite_binary_recording:  54%|#####4    | 81/150 [00:07<00:06, 10.69it/s]\\rwrite_binary_recording:  55%|#####5    | 83/150 [00:07<00:06, 10.33it/s]\\rwrite_binary_recording:  57%|#####6    | 85/150 [00:07<00:06, 10.38it/s]\\rwrite_binary_recording:  58%|#####8    | 87/150 [00:07<00:05, 10.52it/s]\\rwrite_binary_recording:  59%|#####9    | 89/150 [00:07<00:05, 10.49it/s]\\rwrite_binary_recording:  61%|######    | 91/150 [00:08<00:05, 11.26it/s]\\rwrite_binary_recording:  62%|######2   | 93/150 [00:08<00:04, 11.88it/s]\\rwrite_binary_recording:  63%|######3   | 95/150 [00:08<00:04, 12.58it/s]\\rwrite_binary_recording:  65%|######4   | 97/150 [00:08<00:04, 12.88it/s]\\rwrite_binary_recording:  66%|######6   | 99/150 [00:08<00:03, 13.20it/s]\\rwrite_binary_recording:  67%|######7   | 101/150 [00:08<00:03, 13.39it/s]\\rwrite_binary_recording:  69%|######8   | 103/150 [00:08<00:03, 13.64it/s]\\rwrite_binary_recording:  70%|#######   | 105/150 [00:09<00:03, 13.69it/s]\\rwrite_binary_recording:  71%|#######1  | 107/150 [00:09<00:03, 13.76it/s]\\rwrite_binary_recording:  73%|#######2  | 109/150 [00:09<00:02, 13.97it/s]\\rwrite_binary_recording:  74%|#######4  | 111/150 [00:09<00:02, 14.15it/s]\\rwrite_binary_recording:  75%|#######5  | 113/150 [00:09<00:02, 13.93it/s]\\rwrite_binary_recording:  77%|#######6  | 115/150 [00:09<00:02, 14.04it/s]\\rwrite_binary_recording:  78%|#######8  | 117/150 [00:09<00:02, 14.00it/s]\\rwrite_binary_recording:  79%|#######9  | 119/150 [00:10<00:02, 13.90it/s]\\rwrite_binary_recording:  81%|########  | 121/150 [00:10<00:02, 14.02it/s]\\rwrite_binary_recording:  82%|########2 | 123/150 [00:10<00:03,  6.84it/s]\\rwrite_binary_recording:  83%|########3 | 125/150 [00:12<00:09,  2.75it/s]\\rwrite_binary_recording:  85%|########4 | 127/150 [00:12<00:06,  3.54it/s]\\rwrite_binary_recording:  86%|########6 | 129/150 [00:12<00:04,  4.54it/s]\\rwrite_binary_recording:  87%|########7 | 131/150 [00:13<00:03,  5.64it/s]\\rwrite_binary_recording:  89%|########8 | 133/150 [00:13<00:02,  6.75it/s]\\rwrite_binary_recording:  90%|######### | 135/150 [00:13<00:01,  7.79it/s]\\rwrite_binary_recording:  91%|#########1| 137/150 [00:13<00:01,  8.94it/s]\\rwrite_binary_recording:  93%|#########2| 139/150 [00:13<00:01, 10.05it/s]\\rwrite_binary_recording:  94%|#########3| 141/150 [00:13<00:00, 10.75it/s]\\rwrite_binary_recording:  95%|#########5| 143/150 [00:13<00:00, 11.47it/s]\\rwrite_binary_recording:  97%|#########6| 145/150 [00:14<00:00, 12.08it/s]\\rwrite_binary_recording:  98%|#########8| 147/150 [00:14<00:00, 12.56it/s]\\rwrite_binary_recording:  99%|#########9| 149/150 [00:14<00:00, 12.90it/s]\\rwrite_binary_recording: 100%|##########| 150/150 [00:14<00:00, 10.38it/s]\\nRUNNING SHELL SCRIPT: /tmp/tmp_shellscript7_aapou3/script.sh\\nWarning! The recording is already filtered, but ironclust filter is enabled\\nchannels = 16, timepoints = 3000000, duration = 2.5 minutes\\nCreating argfile.txt...\\nRUNNING SHELL SCRIPT: /tmp/tmp_shellscriptpbicgg53/script.sh\\nRunning ironclust in /Users/betty/Desktop/SpikeInterface/EDF/results_IC/tmp...\\nRUNNING SHELL SCRIPT: /tmp/tmp_shellscriptepif2u_u/script.sh\\nRUNNING SHELL SCRIPT: /Users/betty/Desktop/SpikeInterface/EDF/results_IC/run_ironclust.sh\\n===================================================\\n\\nIronClust Version: 2\\n\\n===================================================\\n\\nRemoved 0 lock(s).\\n\\nRunning irc2.m (5.9.8)\\n\\nCreated /Users/betty/Desktop/SpikeInterface/EDF/results_IC/tmp/raw_geom.prm\\n\\nRead /Users/betty/Desktop/SpikeInterface/EDF/results_IC/ironclust_dataset/raw.mda (1/1), took 11.8s (8.2 MB/s, 96.0 MB)\\n\\n\\tget_prinvec_: took 0.1s\\n\\nArrays have incompatible sizes for this operation.\\n\\nError using +\\n\\nArrays have incompatible sizes for this operation.\\n\\n\\n\\nError in irc2>find_site2_spk_ (line 9450)\\n\\n\\n\\nError in irc2>get_spikes_ (line 4718)\\n\\n\\n\\nError in irc2>detect_paged_ (line 4664)\\n\\n\\n\\nError in irc2>detect_ (line 4358)\\n\\n\\n\\nError in irc2>detect_cache_ (line 340)\\n\\n\\n\\nError in irc2 (line 236)\\n\\n\\n\\nError in p_ironclust (line 22)\\n\\n\\n\\nMATLAB:sizeDimensionsMustMatch\\n\\nError running ironclust\\nTraceback (most recent call last):\\n  File \"/home/miniconda3/lib/python3.8/site-packages/spikeinterface/sorters/basesorter.py\", line 225, in run_from_folder\\n    SorterClass._run_from_folder(output_folder, sorter_params, verbose)\\n  File \"/home/miniconda3/lib/python3.8/site-packages/spikeinterface/sorters/ironclust/ironclust.py\", line 249, in _run_from_folder\\n    raise Exception(\\'ironclust returned a non-zero exit code\\')\\nException: ironclust returned a non-zero exit code\\n\\nTraceback (most recent call last):\\n  File \"/Users/betty/Desktop/SpikeInterface/EDF/in_container_sorter_script.py\", line 17, in <module>\\n    sorting = run_sorter_local(\\n  File \"/home/miniconda3/lib/python3.8/site-packages/spikeinterface/sorters/runsorter.py\", line 162, in run_sorter_local\\n    SorterClass.run_from_folder(output_folder, raise_error, verbose)\\n  File \"/home/miniconda3/lib/python3.8/site-packages/spikeinterface/sorters/basesorter.py\", line 261, in run_from_folder\\n    raise SpikeSortingError(\\nspikeinterface.sorters.utils.misc.SpikeSortingError: Spike sorting failed. You can inspect the runtime trace in /Users/betty/Desktop/SpikeInterface/EDF/results_IC/spikeinterface_log.json\\n'"
     ]
    }
   ],
   "source": [
    "# run spike sorting by group\n",
    "sorting_IC = ss.run_sorter('ironclust', recording_sub, \n",
    "                           output_folder=base_folder/'results_IC',\n",
    "                           docker_image=True, verbose=True)\n"
   ]
  },
  {
   "cell_type": "code",
   "execution_count": null,
   "id": "ecd37493",
   "metadata": {},
   "outputs": [],
   "source": [
    "sorting_IC"
   ]
  },
  {
   "cell_type": "code",
   "execution_count": null,
   "id": "8719727c",
   "metadata": {},
   "outputs": [],
   "source": [
    "print(f'IronClust found {len(sorting_IC.get_unit_ids())} units')"
   ]
  },
  {
   "cell_type": "code",
   "execution_count": null,
   "id": "60962603",
   "metadata": {},
   "outputs": [],
   "source": [
    "print(f'IronClust unit ids: {sorting_IC.get_unit_ids()}')"
   ]
  },
  {
   "cell_type": "code",
   "execution_count": null,
   "id": "6380074c",
   "metadata": {},
   "outputs": [],
   "source": [
    "print(f'Spike train of a unit: {sorting_IC.get_unit_spike_train(1)}')"
   ]
  },
  {
   "cell_type": "code",
   "execution_count": null,
   "id": "95d1a219",
   "metadata": {},
   "outputs": [],
   "source": [
    "w_rs = sw.plot_rasters(sorting_IC)"
   ]
  }
 ],
 "metadata": {
  "kernelspec": {
   "display_name": "Python 3 (ipykernel)",
   "language": "python",
   "name": "python3"
  },
  "language_info": {
   "codemirror_mode": {
    "name": "ipython",
    "version": 3
   },
   "file_extension": ".py",
   "mimetype": "text/x-python",
   "name": "python",
   "nbconvert_exporter": "python",
   "pygments_lexer": "ipython3",
   "version": "3.9.13"
  }
 },
 "nbformat": 4,
 "nbformat_minor": 5
}
